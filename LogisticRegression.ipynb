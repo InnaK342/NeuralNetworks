{
  "nbformat": 4,
  "nbformat_minor": 0,
  "metadata": {
    "colab": {
      "provenance": [],
      "authorship_tag": "ABX9TyOrhZLGuJXxFUqFkUp728Tk",
      "include_colab_link": true
    },
    "kernelspec": {
      "name": "python3",
      "display_name": "Python 3"
    },
    "language_info": {
      "name": "python"
    }
  },
  "cells": [
    {
      "cell_type": "markdown",
      "metadata": {
        "id": "view-in-github",
        "colab_type": "text"
      },
      "source": [
        "<a href=\"https://colab.research.google.com/github/InnaK342/NeuralNetworks/blob/main/LogisticRegression.ipynb\" target=\"_parent\"><img src=\"https://colab.research.google.com/assets/colab-badge.svg\" alt=\"Open In Colab\"/></a>"
      ]
    },
    {
      "cell_type": "code",
      "execution_count": null,
      "metadata": {
        "id": "AjAgtukZBUYq"
      },
      "outputs": [],
      "source": [
        "import numpy as np\n",
        "import h5py"
      ]
    },
    {
      "cell_type": "code",
      "source": [
        "def load_dataset():\n",
        "  train_dataset = h5py.File('train_catvnoncat.h5', \"r\")\n",
        "  X_train = np.array(train_dataset['train_set_x'][:])\n",
        "  y_train = np.array(train_dataset['train_set_y'][:])\n",
        "  test_dataset = h5py.File('test_catvnoncat.h5', \"r\")\n",
        "  X_test = np.array(test_dataset['test_set_x'][:])\n",
        "  y_test = np.array(test_dataset['test_set_y'][:])\n",
        "  return X_train, X_test, y_train, y_test"
      ],
      "metadata": {
        "id": "PRgShU6uCmp-"
      },
      "execution_count": null,
      "outputs": []
    },
    {
      "cell_type": "code",
      "source": [
        "class LogisticRegression:\n",
        "\n",
        "  def __init__(self, w_shape):\n",
        "    self.w = np.zeros((w_shape, 1))\n",
        "    self.b = 0.0\n",
        "\n",
        "\n",
        "  def sigmoid(self, x):\n",
        "    return 1 / (1 + np.exp(-x))\n",
        "\n",
        "\n",
        "  def train(self, X, y, num_iterations=100, learning_rate=0.01, print_cost=False):\n",
        "    m = X.shape[1]\n",
        "    costs = []\n",
        "    for i in range(num_iterations):\n",
        "      a = self.sigmoid(self.w.T.dot(X) + self.b)\n",
        "      cost =  -1 / m * np.sum(y * np.log(a) + (1 - y) * np.log(1 - a))\n",
        "      cost = np.squeeze(np.array(cost))\n",
        "      dz = a - y\n",
        "      dw = 1 / m * X.dot(dz.T)\n",
        "      db = 1 / m * np.sum(dz)\n",
        "      self.w = self.w - learning_rate * dw\n",
        "      self.b = self.b - learning_rate * db\n",
        "\n",
        "      if i % 100 == 0:\n",
        "            costs.append(cost)\n",
        "\n",
        "            if print_cost:\n",
        "                print (\"Cost after iteration %i: %f\" %(i, cost))\n",
        "\n",
        "\n",
        "  def predict(self, X):\n",
        "    m = X.shape[1]\n",
        "    y_prediction = np.zeros((1, m))\n",
        "    A = self.sigmoid(self.w.T.dot(X) + self.b)\n",
        "\n",
        "    for i in range(A.shape[1]):\n",
        "      if A[0, i] > 0.5:\n",
        "        y_prediction[0, i] = 1\n",
        "      else:\n",
        "        y_prediction[0, i] = 0\n",
        "\n",
        "    return y_prediction\n",
        "\n",
        "\n",
        "  def accuracy(self, y_true, y_predict):\n",
        "    print(f\"accuracy: {100 - np.mean(np.abs(y_predict - y_true)) * 100}\")"
      ],
      "metadata": {
        "id": "rCHv-xJfCuf0"
      },
      "execution_count": null,
      "outputs": []
    },
    {
      "cell_type": "code",
      "source": [
        "X_train, X_test, y_train, y_test = load_dataset()"
      ],
      "metadata": {
        "id": "qYm_kws8Hpwl"
      },
      "execution_count": null,
      "outputs": []
    },
    {
      "cell_type": "code",
      "source": [
        "X_train = X_train.reshape((X_train.shape[0], -1)).T / 255."
      ],
      "metadata": {
        "id": "eqJkaGFqMKwo"
      },
      "execution_count": null,
      "outputs": []
    },
    {
      "cell_type": "code",
      "source": [
        "X_test = X_test.reshape((X_test.shape[0], -1)).T / 255."
      ],
      "metadata": {
        "id": "snUAyDzKMR5t"
      },
      "execution_count": null,
      "outputs": []
    },
    {
      "cell_type": "code",
      "source": [
        "y_train = y_train.reshape((1, y_train.shape[0]))"
      ],
      "metadata": {
        "id": "vVHaapiEMd1x"
      },
      "execution_count": null,
      "outputs": []
    },
    {
      "cell_type": "code",
      "source": [
        "y_test = y_test.reshape((1, y_test.shape[0]))"
      ],
      "metadata": {
        "id": "9tYiDOAeMerN"
      },
      "execution_count": null,
      "outputs": []
    },
    {
      "cell_type": "code",
      "source": [
        "model = LogisticRegression(X_train.shape[0])"
      ],
      "metadata": {
        "id": "u7R2E1rKMqL9"
      },
      "execution_count": null,
      "outputs": []
    },
    {
      "cell_type": "code",
      "source": [
        "model.train(X_train, y_train, num_iterations=5000, learning_rate=0.001, print_cost=True)"
      ],
      "metadata": {
        "colab": {
          "base_uri": "https://localhost:8080/"
        },
        "id": "TebuKpJ6Mzt7",
        "outputId": "2d56cbdf-2222-46ab-bdae-50a238d684bf"
      },
      "execution_count": null,
      "outputs": [
        {
          "output_type": "stream",
          "name": "stdout",
          "text": [
            "Cost after iteration 0: 0.693147\n",
            "Cost after iteration 100: 0.591289\n",
            "Cost after iteration 200: 0.555796\n",
            "Cost after iteration 300: 0.528977\n",
            "Cost after iteration 400: 0.506881\n",
            "Cost after iteration 500: 0.487880\n",
            "Cost after iteration 600: 0.471108\n",
            "Cost after iteration 700: 0.456046\n",
            "Cost after iteration 800: 0.442350\n",
            "Cost after iteration 900: 0.429782\n",
            "Cost after iteration 1000: 0.418164\n",
            "Cost after iteration 1100: 0.407362\n",
            "Cost after iteration 1200: 0.397269\n",
            "Cost after iteration 1300: 0.387802\n",
            "Cost after iteration 1400: 0.378888\n",
            "Cost after iteration 1500: 0.370471\n",
            "Cost after iteration 1600: 0.362500\n",
            "Cost after iteration 1700: 0.354934\n",
            "Cost after iteration 1800: 0.347737\n",
            "Cost after iteration 1900: 0.340877\n",
            "Cost after iteration 2000: 0.334326\n",
            "Cost after iteration 2100: 0.328061\n",
            "Cost after iteration 2200: 0.322060\n",
            "Cost after iteration 2300: 0.316304\n",
            "Cost after iteration 2400: 0.310776\n",
            "Cost after iteration 2500: 0.305460\n",
            "Cost after iteration 2600: 0.300342\n",
            "Cost after iteration 2700: 0.295411\n",
            "Cost after iteration 2800: 0.290655\n",
            "Cost after iteration 2900: 0.286062\n",
            "Cost after iteration 3000: 0.281625\n",
            "Cost after iteration 3100: 0.277334\n",
            "Cost after iteration 3200: 0.273181\n",
            "Cost after iteration 3300: 0.269158\n",
            "Cost after iteration 3400: 0.265260\n",
            "Cost after iteration 3500: 0.261479\n",
            "Cost after iteration 3600: 0.257811\n",
            "Cost after iteration 3700: 0.254248\n",
            "Cost after iteration 3800: 0.250787\n",
            "Cost after iteration 3900: 0.247423\n",
            "Cost after iteration 4000: 0.244151\n",
            "Cost after iteration 4100: 0.240967\n",
            "Cost after iteration 4200: 0.237868\n",
            "Cost after iteration 4300: 0.234849\n",
            "Cost after iteration 4400: 0.231908\n",
            "Cost after iteration 4500: 0.229041\n",
            "Cost after iteration 4600: 0.226245\n",
            "Cost after iteration 4700: 0.223518\n",
            "Cost after iteration 4800: 0.220856\n",
            "Cost after iteration 4900: 0.218258\n"
          ]
        }
      ]
    },
    {
      "cell_type": "code",
      "source": [
        "predictions_train = model.predict(X_train)"
      ],
      "metadata": {
        "id": "jz1H6agzM5nA"
      },
      "execution_count": null,
      "outputs": []
    },
    {
      "cell_type": "code",
      "source": [
        "predictions_test = model.predict(X_test)"
      ],
      "metadata": {
        "id": "Qz2xm18tQ2t_"
      },
      "execution_count": null,
      "outputs": []
    },
    {
      "cell_type": "code",
      "source": [
        "print(predictions_train)"
      ],
      "metadata": {
        "colab": {
          "base_uri": "https://localhost:8080/"
        },
        "id": "-lRLSeM2RFiA",
        "outputId": "673a820f-141c-4dfa-b4ce-8191cd87568b"
      },
      "execution_count": null,
      "outputs": [
        {
          "output_type": "stream",
          "name": "stdout",
          "text": [
            "[[0. 0. 1. 0. 0. 0. 0. 1. 0. 0. 0. 1. 0. 1. 1. 0. 0. 0. 0. 1. 0. 0. 0. 0.\n",
            "  1. 1. 0. 1. 0. 1. 0. 0. 0. 0. 0. 0. 0. 0. 1. 0. 0. 0. 1. 0. 0. 0. 0. 1.\n",
            "  0. 0. 1. 0. 0. 1. 1. 0. 1. 1. 0. 1. 1. 1. 0. 0. 0. 0. 0. 0. 1. 0. 0. 1.\n",
            "  0. 0. 0. 1. 0. 0. 0. 0. 0. 0. 0. 1. 1. 0. 0. 0. 1. 0. 0. 0. 0. 1. 1. 0.\n",
            "  0. 1. 0. 0. 0. 0. 1. 0. 1. 0. 1. 1. 1. 1. 1. 1. 0. 0. 0. 0. 0. 1. 0. 0.\n",
            "  0. 0. 0. 0. 1. 0. 1. 0. 1. 1. 0. 0. 0. 1. 1. 0. 1. 1. 0. 0. 0. 0. 1. 0.\n",
            "  1. 1. 1. 0. 1. 1. 1. 0. 0. 1. 0. 0. 1. 0. 0. 0. 0. 0. 1. 0. 1. 0. 1. 0.\n",
            "  0. 1. 1. 1. 0. 0. 1. 1. 0. 1. 0. 1. 0. 0. 0. 0. 0. 1. 0. 0. 1. 0. 0. 0.\n",
            "  1. 0. 0. 0. 0. 1. 0. 0. 1. 0. 0. 0. 0. 0. 0. 0. 0.]]\n"
          ]
        }
      ]
    },
    {
      "cell_type": "code",
      "source": [
        "model.accuracy(predictions_train, y_train)"
      ],
      "metadata": {
        "colab": {
          "base_uri": "https://localhost:8080/"
        },
        "id": "AtZ5j3_QQ-XD",
        "outputId": "31501f4f-cf07-46ea-bb11-53a48227e887"
      },
      "execution_count": null,
      "outputs": [
        {
          "output_type": "stream",
          "name": "stdout",
          "text": [
            "accuracy: 96.65071770334929\n"
          ]
        }
      ]
    },
    {
      "cell_type": "code",
      "source": [
        "model.accuracy(predictions_test, y_test)"
      ],
      "metadata": {
        "colab": {
          "base_uri": "https://localhost:8080/"
        },
        "id": "ipKWNWyRRBhN",
        "outputId": "84a20a3b-6bdd-4533-9963-004f79daa0b2"
      },
      "execution_count": null,
      "outputs": [
        {
          "output_type": "stream",
          "name": "stdout",
          "text": [
            "accuracy: 74.0\n"
          ]
        }
      ]
    },
    {
      "cell_type": "code",
      "source": [
        "X_train, X_test, y_train, y_test = load_dataset()"
      ],
      "metadata": {
        "id": "b2cp9XxfTBTy"
      },
      "execution_count": null,
      "outputs": []
    },
    {
      "cell_type": "code",
      "source": [
        "from PIL import Image\n",
        "import matplotlib.pyplot as plt\n",
        "image = np.array(Image.open('cat.jpg').resize((64, 64)))\n",
        "plt.imshow(image)"
      ],
      "metadata": {
        "colab": {
          "base_uri": "https://localhost:8080/",
          "height": 450
        },
        "id": "Non_IKQsRVNB",
        "outputId": "2036e53a-98e7-448d-af9c-46b71e1ca916"
      },
      "execution_count": null,
      "outputs": [
        {
          "output_type": "execute_result",
          "data": {
            "text/plain": [
              "<matplotlib.image.AxesImage at 0x7f9802fc24d0>"
            ]
          },
          "metadata": {},
          "execution_count": 187
        },
        {
          "output_type": "display_data",
          "data": {
            "text/plain": [
              "<Figure size 640x480 with 1 Axes>"
            ],
            "image/png": "[encoded data removed]"
          },
          "metadata": {}
        }
      ]
    },
    {
      "cell_type": "code",
      "source": [
        "image = image / 255.\n",
        "image = image.reshape((1, 64 * 64 * 3)).T"
      ],
      "metadata": {
        "id": "LQfCwBmtTMKe"
      },
      "execution_count": null,
      "outputs": []
    },
    {
      "cell_type": "code",
      "source": [
        "model.predict(image)"
      ],
      "metadata": {
        "colab": {
          "base_uri": "https://localhost:8080/"
        },
        "id": "IWNWaq4_TZ8e",
        "outputId": "477d332b-c6a0-483e-e817-2857eb17260c"
      },
      "execution_count": null,
      "outputs": [
        {
          "output_type": "execute_result",
          "data": {
            "text/plain": [
              "array([[1.]])"
            ]
          },
          "metadata": {},
          "execution_count": 190
        }
      ]
    },
    {
      "cell_type": "code",
      "source": [
        "image_dog = np.array(Image.open('dog.jpeg').resize((64, 64)))\n",
        "plt.imshow(image_dog)"
      ],
      "metadata": {
        "colab": {
          "base_uri": "https://localhost:8080/",
          "height": 450
        },
        "id": "p5r90r-lTrtF",
        "outputId": "b1ceca58-2041-43ed-d7dd-88ec7866e208"
      },
      "execution_count": null,
      "outputs": [
        {
          "output_type": "execute_result",
          "data": {
            "text/plain": [
              "<matplotlib.image.AxesImage at 0x7f98004533d0>"
            ]
          },
          "metadata": {},
          "execution_count": 193
        },
        {
          "output_type": "display_data",
          "data": {
            "text/plain": [
              "<Figure size 640x480 with 1 Axes>"
            ],
            "image/png": "[encoded data removed]"
          },
          "metadata": {}
        }
      ]
    },
    {
      "cell_type": "code",
      "source": [
        "model.predict((image_dog / 255.).reshape((1, 64 * 64 * 3)).T)"
      ],
      "metadata": {
        "colab": {
          "base_uri": "https://localhost:8080/"
        },
        "id": "XM8HJ7feUbDc",
        "outputId": "8d37cd7a-9de5-424e-ef79-98f9f11f6e28"
      },
      "execution_count": null,
      "outputs": [
        {
          "output_type": "execute_result",
          "data": {
            "text/plain": [
              "array([[0.]])"
            ]
          },
          "metadata": {},
          "execution_count": 197
        }
      ]
    },
    {
      "cell_type": "code",
      "source": [],
      "metadata": {
        "id": "MiJ6y_iXUp7x"
      },
      "execution_count": null,
      "outputs": []
    }
  ]
}